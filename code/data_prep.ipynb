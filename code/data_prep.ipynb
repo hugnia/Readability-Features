{
 "cells": [
  {
   "cell_type": "code",
   "source": [
    "import numpy as np\n",
    "import pandas as pd\n",
    "import os\n",
    "import re\n",
    "from PIL import Image, ImageDraw"
   ],
   "execution_count": 17,
   "outputs": [],
   "metadata": {
    "datalore": {
     "node_id": "99YZ5UvpyA03jhY7VeFlGM",
     "type": "CODE",
     "hide_input_from_viewers": true,
     "hide_output_from_viewers": true
    },
    "ExecuteTime": {
     "end_time": "2023-06-05T10:14:08.969336Z",
     "start_time": "2023-06-05T10:14:08.955854Z"
    }
   }
  },
  {
   "cell_type": "markdown",
   "source": [
    "# Code for df prep"
   ],
   "attachments": {},
   "metadata": {
    "datalore": {
     "node_id": "1xJIVeQXPehRFouQQ999bX",
     "type": "MD",
     "hide_input_from_viewers": true,
     "hide_output_from_viewers": true
    }
   }
  },
  {
   "cell_type": "code",
   "source": [
    "df = pd.read_csv('/Users/agnia.sergeyuk/PycharmProjects/Readability-Features/code/snips.csv')\n",
    "df"
   ],
   "execution_count": 18,
   "outputs": [
    {
     "data": {
      "text/plain": "    snip_id                                               task  \\\n0         1  A happy number is defined by the following Seq...   \n1         2  A Leyland number is of the form (x of degree y...   \n2         3  A Niven number is a positive integer that is d...   \n3         4  A number is a divisor of another number if it ...   \n4         5  A pangram is a sentence that uses every letter...   \n5         6  A pernicious number is a positive number where...   \n6         7  A quine is a non-empty computer program which ...   \n7         8  A Smith number is a composite number whose dig...   \n8         9  A vampire number is a non-negative number that...   \n9        10  An abundant number is a number for which the s...   \n10       11  An emirp (prime spelled backwards) is a prime ...   \n11       12  An evil number is a non-negative number that h...   \n12       13  An odious number is a non-negative number that...   \n13       14  Calculate the check digit for these incomplete...   \n14       15  Catalan’s constant is a mathematical constant ...   \n15       16  Draw 7 cubes in increasing size using \"╱\" (U+2...   \n16       17  Draw a size ascending range of Christmas trees...   \n17       18  Draw a size ascending range of diamonds using ...   \n18       19  For each fraction argument a/b, print its deci...   \n19       20  For each fraction argument a/b, reduce it to i...   \n20       21  For each integer argument print the integer sp...   \n21       22  For each integer argument, print the argument ...   \n22       23  For each numeric argument in Arabic numerals, ...   \n23       24  Given a date in the YYYY-MM-DD format between ...   \n24       25  Given a string, output the hexdump of the stri...   \n25       26  In the Gregorian calendar, a leap year is crea...   \n26       27  Pascal’s triangle is a triangular pattern of i...   \n27       28  Print 2π=τ (tau) to the first 1,000 decimal pl...   \n28       29  Print a 10×10 grid of the numbers 0 to 99 incl...   \n29       30  Print all the prime numbers from 1 to 10,000 i...   \n30       31  Print 𝑒 (Euler’s number) to the first 1,000 de...   \n31       32  Print the Euler–Mascheroni constant γ (gamma) ...   \n32       33  Print the following hex ASCII table, taken fro...   \n33       34  Print the following tongue twisters with a bla...   \n34       35  Print the Golden ratio φ (phi) to the first 1,...   \n35       36  Print the lyrics to the song 99 Bottles of Bee...   \n36       37  Print the numbers from 1 to 1,000 inclusive, e...   \n37       38    Print π (pi) to the first 1,000 decimal places.   \n38       39  RPN (Reverse Polish notation) is a way of writ...   \n39       40  Starting from a(0) = 0, each term of the seque...   \n40       41  The Collatz conjecture states that, for any po...   \n41       42  The Fibonacci numbers are a numerical sequence...   \n42       43  The Levenshtein distance is the minimum number...   \n43       44  The Look and Say sequence starts with 1 and is...   \n44       45  The lucky numbers are an integer sequence that...   \n45       46  The nth Catalan number can be expressed as C(n...   \n46       47  The rules of the Van Eck sequence are as follo...   \n47       48  Using pipes and underscores print the argument...   \n48       49  We will build a sequence by repeatedly taking ...   \n\n                                              snippet  \n0   public class HappyNumbers {\\n    public static...  \n1   public class LeylandNumbers {\\n    public stat...  \n2   public class NivenNumbers {\\n    public static...  \n3   public class Divisors {\\n    public static voi...  \n4   public class PangramValidator{\\n    public sta...  \n5   public class PerniciousNumbers {\\n    public s...  \n6   public class Quine {\\n    public static void m...  \n7   public class SmithNumber {\\n    public static ...  \n8   import java.util.*;\\n\\npublic class VampireNum...  \n9   public class AbundantNumbers {\\n\\n    public s...  \n10  public class EmirpFinder {\\n\\n    public stati...  \n11  public class EvilNumbers {\\n    public static ...  \n12  public class OdiousNumbers {\\n    public stati...  \n13  import java.util.Scanner;\\n\\npublic class ISBN...  \n14  import java.math.BigDecimal;\\n\\npublic class C...  \n15  public class CubeDraw {\\n    public static voi...  \n16  public class ChristmasTree {\\n    public stati...  \n17  public class Diamond {\\n\\n    public static vo...  \n18  import java.util.Scanner;\\n\\npublic class Frac...  \n19  import java.util.Scanner;\\n\\npublic class Frac...  \n20  public class NumberToWords {\\n    public stati...  \n21  public class OrdinalSuffix {\\n\\n    public sta...  \n22  public class ArabicToRoman {\\n\\n    public sta...  \n23  import java.time.DayOfWeek;\\nimport java.time....  \n24  import java.util.Scanner;\\n\\npublic class HexD...  \n25  public class LeapYearPrinter {\\n\\n    public s...  \n26  public class PascalTriangle {\\n    public stat...  \n27  import java.math.BigDecimal;\\n\\npublic class T...  \n28  public class SpiralGrid {\\n    public static v...  \n29  public class PrimeNumbers {\\n    public static...  \n30  import java.math.BigDecimal;\\n\\npublic class E...  \n31  import java.math.BigDecimal;\\n\\npublic class E...  \n32  public class AsciiTable {\\n    public static v...  \n33  public class TongueTwisters {\\n\\n    public st...  \n34  import java.math.BigDecimal;\\n\\npublic class G...  \n35  public class BeerSong {\\n    public static voi...  \n36  public class Main {\\n    public static void ma...  \n37  import java.math.BigDecimal;\\nimport java.math...  \n38  import java.util.Scanner;\\nimport java.util.St...  \n39  public class Main {\\n    public static void ma...  \n40  public class CollatzConjecture {\\n    public s...  \n41  public class FibonacciSequence {\\n    public s...  \n42  public class LevenshteinDistance {\\n\\n    publ...  \n43  public class LookAndSaySequence {\\n    public ...  \n44  public class LuckyNumbers {\\n    public static...  \n45  public class CatalanNumberGenerator {\\n\\n    p...  \n46  public class VanEckSequence {\\n    public stat...  \n47  import java.util.Scanner;\\n\\npublic class Seve...  \n48  public class InventorySequence {\\n    public s...  ",
      "text/html": "<div>\n<style scoped>\n    .dataframe tbody tr th:only-of-type {\n        vertical-align: middle;\n    }\n\n    .dataframe tbody tr th {\n        vertical-align: top;\n    }\n\n    .dataframe thead th {\n        text-align: right;\n    }\n</style>\n<table border=\"1\" class=\"dataframe\">\n  <thead>\n    <tr style=\"text-align: right;\">\n      <th></th>\n      <th>snip_id</th>\n      <th>task</th>\n      <th>snippet</th>\n    </tr>\n  </thead>\n  <tbody>\n    <tr>\n      <th>0</th>\n      <td>1</td>\n      <td>A happy number is defined by the following Seq...</td>\n      <td>public class HappyNumbers {\\n    public static...</td>\n    </tr>\n    <tr>\n      <th>1</th>\n      <td>2</td>\n      <td>A Leyland number is of the form (x of degree y...</td>\n      <td>public class LeylandNumbers {\\n    public stat...</td>\n    </tr>\n    <tr>\n      <th>2</th>\n      <td>3</td>\n      <td>A Niven number is a positive integer that is d...</td>\n      <td>public class NivenNumbers {\\n    public static...</td>\n    </tr>\n    <tr>\n      <th>3</th>\n      <td>4</td>\n      <td>A number is a divisor of another number if it ...</td>\n      <td>public class Divisors {\\n    public static voi...</td>\n    </tr>\n    <tr>\n      <th>4</th>\n      <td>5</td>\n      <td>A pangram is a sentence that uses every letter...</td>\n      <td>public class PangramValidator{\\n    public sta...</td>\n    </tr>\n    <tr>\n      <th>5</th>\n      <td>6</td>\n      <td>A pernicious number is a positive number where...</td>\n      <td>public class PerniciousNumbers {\\n    public s...</td>\n    </tr>\n    <tr>\n      <th>6</th>\n      <td>7</td>\n      <td>A quine is a non-empty computer program which ...</td>\n      <td>public class Quine {\\n    public static void m...</td>\n    </tr>\n    <tr>\n      <th>7</th>\n      <td>8</td>\n      <td>A Smith number is a composite number whose dig...</td>\n      <td>public class SmithNumber {\\n    public static ...</td>\n    </tr>\n    <tr>\n      <th>8</th>\n      <td>9</td>\n      <td>A vampire number is a non-negative number that...</td>\n      <td>import java.util.*;\\n\\npublic class VampireNum...</td>\n    </tr>\n    <tr>\n      <th>9</th>\n      <td>10</td>\n      <td>An abundant number is a number for which the s...</td>\n      <td>public class AbundantNumbers {\\n\\n    public s...</td>\n    </tr>\n    <tr>\n      <th>10</th>\n      <td>11</td>\n      <td>An emirp (prime spelled backwards) is a prime ...</td>\n      <td>public class EmirpFinder {\\n\\n    public stati...</td>\n    </tr>\n    <tr>\n      <th>11</th>\n      <td>12</td>\n      <td>An evil number is a non-negative number that h...</td>\n      <td>public class EvilNumbers {\\n    public static ...</td>\n    </tr>\n    <tr>\n      <th>12</th>\n      <td>13</td>\n      <td>An odious number is a non-negative number that...</td>\n      <td>public class OdiousNumbers {\\n    public stati...</td>\n    </tr>\n    <tr>\n      <th>13</th>\n      <td>14</td>\n      <td>Calculate the check digit for these incomplete...</td>\n      <td>import java.util.Scanner;\\n\\npublic class ISBN...</td>\n    </tr>\n    <tr>\n      <th>14</th>\n      <td>15</td>\n      <td>Catalan’s constant is a mathematical constant ...</td>\n      <td>import java.math.BigDecimal;\\n\\npublic class C...</td>\n    </tr>\n    <tr>\n      <th>15</th>\n      <td>16</td>\n      <td>Draw 7 cubes in increasing size using \"╱\" (U+2...</td>\n      <td>public class CubeDraw {\\n    public static voi...</td>\n    </tr>\n    <tr>\n      <th>16</th>\n      <td>17</td>\n      <td>Draw a size ascending range of Christmas trees...</td>\n      <td>public class ChristmasTree {\\n    public stati...</td>\n    </tr>\n    <tr>\n      <th>17</th>\n      <td>18</td>\n      <td>Draw a size ascending range of diamonds using ...</td>\n      <td>public class Diamond {\\n\\n    public static vo...</td>\n    </tr>\n    <tr>\n      <th>18</th>\n      <td>19</td>\n      <td>For each fraction argument a/b, print its deci...</td>\n      <td>import java.util.Scanner;\\n\\npublic class Frac...</td>\n    </tr>\n    <tr>\n      <th>19</th>\n      <td>20</td>\n      <td>For each fraction argument a/b, reduce it to i...</td>\n      <td>import java.util.Scanner;\\n\\npublic class Frac...</td>\n    </tr>\n    <tr>\n      <th>20</th>\n      <td>21</td>\n      <td>For each integer argument print the integer sp...</td>\n      <td>public class NumberToWords {\\n    public stati...</td>\n    </tr>\n    <tr>\n      <th>21</th>\n      <td>22</td>\n      <td>For each integer argument, print the argument ...</td>\n      <td>public class OrdinalSuffix {\\n\\n    public sta...</td>\n    </tr>\n    <tr>\n      <th>22</th>\n      <td>23</td>\n      <td>For each numeric argument in Arabic numerals, ...</td>\n      <td>public class ArabicToRoman {\\n\\n    public sta...</td>\n    </tr>\n    <tr>\n      <th>23</th>\n      <td>24</td>\n      <td>Given a date in the YYYY-MM-DD format between ...</td>\n      <td>import java.time.DayOfWeek;\\nimport java.time....</td>\n    </tr>\n    <tr>\n      <th>24</th>\n      <td>25</td>\n      <td>Given a string, output the hexdump of the stri...</td>\n      <td>import java.util.Scanner;\\n\\npublic class HexD...</td>\n    </tr>\n    <tr>\n      <th>25</th>\n      <td>26</td>\n      <td>In the Gregorian calendar, a leap year is crea...</td>\n      <td>public class LeapYearPrinter {\\n\\n    public s...</td>\n    </tr>\n    <tr>\n      <th>26</th>\n      <td>27</td>\n      <td>Pascal’s triangle is a triangular pattern of i...</td>\n      <td>public class PascalTriangle {\\n    public stat...</td>\n    </tr>\n    <tr>\n      <th>27</th>\n      <td>28</td>\n      <td>Print 2π=τ (tau) to the first 1,000 decimal pl...</td>\n      <td>import java.math.BigDecimal;\\n\\npublic class T...</td>\n    </tr>\n    <tr>\n      <th>28</th>\n      <td>29</td>\n      <td>Print a 10×10 grid of the numbers 0 to 99 incl...</td>\n      <td>public class SpiralGrid {\\n    public static v...</td>\n    </tr>\n    <tr>\n      <th>29</th>\n      <td>30</td>\n      <td>Print all the prime numbers from 1 to 10,000 i...</td>\n      <td>public class PrimeNumbers {\\n    public static...</td>\n    </tr>\n    <tr>\n      <th>30</th>\n      <td>31</td>\n      <td>Print 𝑒 (Euler’s number) to the first 1,000 de...</td>\n      <td>import java.math.BigDecimal;\\n\\npublic class E...</td>\n    </tr>\n    <tr>\n      <th>31</th>\n      <td>32</td>\n      <td>Print the Euler–Mascheroni constant γ (gamma) ...</td>\n      <td>import java.math.BigDecimal;\\n\\npublic class E...</td>\n    </tr>\n    <tr>\n      <th>32</th>\n      <td>33</td>\n      <td>Print the following hex ASCII table, taken fro...</td>\n      <td>public class AsciiTable {\\n    public static v...</td>\n    </tr>\n    <tr>\n      <th>33</th>\n      <td>34</td>\n      <td>Print the following tongue twisters with a bla...</td>\n      <td>public class TongueTwisters {\\n\\n    public st...</td>\n    </tr>\n    <tr>\n      <th>34</th>\n      <td>35</td>\n      <td>Print the Golden ratio φ (phi) to the first 1,...</td>\n      <td>import java.math.BigDecimal;\\n\\npublic class G...</td>\n    </tr>\n    <tr>\n      <th>35</th>\n      <td>36</td>\n      <td>Print the lyrics to the song 99 Bottles of Bee...</td>\n      <td>public class BeerSong {\\n    public static voi...</td>\n    </tr>\n    <tr>\n      <th>36</th>\n      <td>37</td>\n      <td>Print the numbers from 1 to 1,000 inclusive, e...</td>\n      <td>public class Main {\\n    public static void ma...</td>\n    </tr>\n    <tr>\n      <th>37</th>\n      <td>38</td>\n      <td>Print π (pi) to the first 1,000 decimal places.</td>\n      <td>import java.math.BigDecimal;\\nimport java.math...</td>\n    </tr>\n    <tr>\n      <th>38</th>\n      <td>39</td>\n      <td>RPN (Reverse Polish notation) is a way of writ...</td>\n      <td>import java.util.Scanner;\\nimport java.util.St...</td>\n    </tr>\n    <tr>\n      <th>39</th>\n      <td>40</td>\n      <td>Starting from a(0) = 0, each term of the seque...</td>\n      <td>public class Main {\\n    public static void ma...</td>\n    </tr>\n    <tr>\n      <th>40</th>\n      <td>41</td>\n      <td>The Collatz conjecture states that, for any po...</td>\n      <td>public class CollatzConjecture {\\n    public s...</td>\n    </tr>\n    <tr>\n      <th>41</th>\n      <td>42</td>\n      <td>The Fibonacci numbers are a numerical sequence...</td>\n      <td>public class FibonacciSequence {\\n    public s...</td>\n    </tr>\n    <tr>\n      <th>42</th>\n      <td>43</td>\n      <td>The Levenshtein distance is the minimum number...</td>\n      <td>public class LevenshteinDistance {\\n\\n    publ...</td>\n    </tr>\n    <tr>\n      <th>43</th>\n      <td>44</td>\n      <td>The Look and Say sequence starts with 1 and is...</td>\n      <td>public class LookAndSaySequence {\\n    public ...</td>\n    </tr>\n    <tr>\n      <th>44</th>\n      <td>45</td>\n      <td>The lucky numbers are an integer sequence that...</td>\n      <td>public class LuckyNumbers {\\n    public static...</td>\n    </tr>\n    <tr>\n      <th>45</th>\n      <td>46</td>\n      <td>The nth Catalan number can be expressed as C(n...</td>\n      <td>public class CatalanNumberGenerator {\\n\\n    p...</td>\n    </tr>\n    <tr>\n      <th>46</th>\n      <td>47</td>\n      <td>The rules of the Van Eck sequence are as follo...</td>\n      <td>public class VanEckSequence {\\n    public stat...</td>\n    </tr>\n    <tr>\n      <th>47</th>\n      <td>48</td>\n      <td>Using pipes and underscores print the argument...</td>\n      <td>import java.util.Scanner;\\n\\npublic class Seve...</td>\n    </tr>\n    <tr>\n      <th>48</th>\n      <td>49</td>\n      <td>We will build a sequence by repeatedly taking ...</td>\n      <td>public class InventorySequence {\\n    public s...</td>\n    </tr>\n  </tbody>\n</table>\n</div>"
     },
     "execution_count": 18,
     "metadata": {},
     "output_type": "execute_result"
    }
   ],
   "metadata": {
    "datalore": {
     "node_id": "wL09BUh5A2OtmMuF5v5Fnq",
     "type": "CODE",
     "hide_input_from_viewers": true,
     "hide_output_from_viewers": true
    },
    "ExecuteTime": {
     "end_time": "2023-06-05T10:14:08.995298Z",
     "start_time": "2023-06-05T10:14:08.962022Z"
    }
   }
  },
  {
   "cell_type": "code",
   "source": [
    "# #to find snips longer than 50 lines of code\n",
    "# def count_lines(code_snippet):\n",
    "#     lines = code_snippet.split('\\n')\n",
    "#     return len(lines)\n",
    "# \n",
    "# df[\"line_count\"] = df[\"snippet\"].apply(count_lines)\n",
    "# \n",
    "# # Get snip_id values where the code_snippet has more than 50 lines\n",
    "# result = df[df[\"line_count\"] > 50][\"snip_id\"].tolist()\n",
    "# \n",
    "# print(result)"
   ],
   "execution_count": 19,
   "outputs": [],
   "metadata": {
    "datalore": {
     "node_id": "rIiRpXFTNeqGSJFe4TOmiR",
     "type": "CODE",
     "hide_input_from_viewers": true,
     "hide_output_from_viewers": true
    },
    "ExecuteTime": {
     "end_time": "2023-06-05T10:14:08.995581Z",
     "start_time": "2023-06-05T10:14:08.975071Z"
    }
   }
  },
  {
   "cell_type": "code",
   "source": [
    "# #to extract possible classes for coloring\n",
    "\n",
    "# def extract_classes_from_snippet(snippet):\n",
    "#     classes = []\n",
    "#     try:\n",
    "#         tree = javalang.parse.parse(snippet)\n",
    "#         for path, node in tree.filter(javalang.tree.ReferenceType):\n",
    "#             classes.append(node.name)\n",
    "#         return classes\n",
    "#     except javalang.parser.JavaSyntaxError:\n",
    "#         print(\"Syntax error while parsing snippet {row.name}\")\n",
    "#         return []\n",
    "\n",
    "# def find_classes_in_df(df):\n",
    "#     classes = []\n",
    "\n",
    "#     for _, row in df.iterrows():\n",
    "#         snippet = row['snippet']\n",
    "#         classes.extend(extract_classes_from_snippet(snippet))\n",
    "\n",
    "#     # Convert classes list to a set to remove duplicates\n",
    "#     unique_classes = set(classes)\n",
    "    \n",
    "#     return unique_classes\n",
    "\n",
    "# unique_classes = find_classes_in_df(df)\n",
    "# print(unique_classes)"
   ],
   "execution_count": 20,
   "outputs": [],
   "metadata": {
    "datalore": {
     "node_id": "Vf8qlVGD2gEzseNZfIcufL",
     "type": "CODE",
     "hide_input_from_viewers": true,
     "hide_output_from_viewers": true
    },
    "ExecuteTime": {
     "end_time": "2023-06-05T10:14:08.995692Z",
     "start_time": "2023-06-05T10:14:08.978449Z"
    }
   }
  },
  {
   "cell_type": "markdown",
   "source": [
    "# Code for snip-img transformation"
   ],
   "attachments": {},
   "metadata": {
    "datalore": {
     "node_id": "ybe7R2f3q0pXfsoIQeOegF",
     "type": "MD",
     "hide_input_from_viewers": true,
     "hide_output_from_viewers": true
    }
   }
  },
  {
   "cell_type": "code",
   "source": [
    "CLASSES_COLOR = (37, 74, 243)\n",
    "IDENTIFIERS_COLOR = (109, 251, 251)\n",
    "LITERALS_COLOR = (109, 251, 251)\n",
    "OPERATORS_SEPARATORS_COLOR = (247, 249, 22)\n",
    "KEYWORDS_COLOR = (247, 14, 12)\n",
    "COMMENTS_COLOR = (58, 129, 29)\n",
    "WHITESPACE_COLOR = (255, 255, 255)\n",
    "STRINGS_COLOR = (115,244,64)\n",
    "\n",
    "COMMENT_REGEX = r'^\\s*(\\/\\/.*|\\/\\*.*?\\*\\/|\\/\\*\\*[\\s\\S]*?\\*\\/)'\n",
    "OPERATOR_SEPARATOR_REGEX = r'[-+*/%=<>!&|~^{}();.,]|[\\(\\)]'\n",
    "IDENTIFIER_REGEX = r'[A-Za-z_]\\w*'\n",
    "LITERAL_REGEX = r'\\d+(\\.\\d+)?'\n",
    "STRING_REGEX = r'\"[^\"]*\"'\n",
    "CLASSES = r'\\b[A-Z][A-Za-z]*[a-z][A-Za-z]*\\b'\n",
    "\n",
    "KEYWORDS = [\"abstract\", \"assert\", \"boolean\", \"break\", \"byte\",\n",
    "            \"case\", \"catch\", \"char\", \"class\", \"const\", \"continue\",\n",
    "            \"default\", \"do\", \"double\", \"else\", \"enum\", \"extends\", \"false\",\n",
    "            \"final\", \"finally\", \"float\", \"for\", \"if\", \"implements\",\n",
    "            \"import\", \"instanceof\", \"int\", \"interface\", \"long\", \"native\",\n",
    "            \"new\", \"null\", \"package\", \"private\", \"protected\", \"public\", \"return\",\n",
    "            \"short\", \"static\", \"strictfp\", \"super\", \"switch\", \"synchronized\",\n",
    "            \"this\", \"throw\", \"throws\", \"transient\", \"true\", \"try\", \"void\", \"volatile\", \n",
    "            \"while\"]\n",
    "\n",
    "CHARACTER_WIDTH = 11\n",
    "CHARACTER_HEIGHT = 22\n",
    "MARGIN = 10"
   ],
   "execution_count": 21,
   "outputs": [],
   "metadata": {
    "datalore": {
     "node_id": "r7d7SagpCKirD7M7clRtN7",
     "type": "CODE",
     "hide_input_from_viewers": true,
     "hide_output_from_viewers": true
    },
    "ExecuteTime": {
     "end_time": "2023-06-05T10:14:08.996561Z",
     "start_time": "2023-06-05T10:14:08.984866Z"
    }
   }
  },
  {
   "cell_type": "code",
   "source": [
    "def determine_color(word):\n",
    "    if word.lower() in KEYWORDS:\n",
    "        return KEYWORDS_COLOR\n",
    "    elif re.match(OPERATOR_SEPARATOR_REGEX, word):\n",
    "        return OPERATORS_SEPARATORS_COLOR\n",
    "    elif re.match(IDENTIFIER_REGEX, word):\n",
    "        if re.match(CLASSES, word):\n",
    "            return CLASSES_COLOR\n",
    "        else:\n",
    "            return IDENTIFIERS_COLOR\n",
    "    elif re.match(LITERAL_REGEX, word):\n",
    "        return LITERALS_COLOR\n",
    "    elif re.match(STRING_REGEX, word):\n",
    "        return STRINGS_COLOR\n",
    "    else:\n",
    "        return WHITESPACE_COLOR"
   ],
   "execution_count": 22,
   "outputs": [],
   "metadata": {
    "datalore": {
     "node_id": "WRshBhyBgIYdYrT5Za1UGQ",
     "type": "CODE",
     "hide_input_from_viewers": true,
     "hide_output_from_viewers": true
    },
    "ExecuteTime": {
     "end_time": "2023-06-05T10:14:08.997237Z",
     "start_time": "2023-06-05T10:14:08.988405Z"
    }
   }
  },
  {
   "cell_type": "code",
   "source": [
    "def generate_code_image(code):\n",
    "    lines = code.splitlines()\n",
    "    words = [re.findall(\n",
    "        r'\\\".*?\\\"|\\b[A-Za-z_][A-Za-z0-9_]*\\b|\\d+\\.\\d+|\\d+|[+\\-*/%=<>!&|~^{}();.,]|\\s', line) for line in lines]\n",
    "    image_width = max(len(line) for line in lines) * CHARACTER_WIDTH + 2 * MARGIN\n",
    "    image_height = len(lines) * CHARACTER_HEIGHT + 2 * MARGIN\n",
    "    image = Image.new(\"RGB\", (image_width, image_height), \"white\")\n",
    "    draw = ImageDraw.Draw(image)\n",
    "\n",
    "    x, y = MARGIN, MARGIN\n",
    "    javadoc_comment = False\n",
    "\n",
    "    for line_number, line in enumerate(words):\n",
    "        if re.match(r'^\\s*\\/\\*\\*', lines[line_number]):\n",
    "            javadoc_comment = True\n",
    "\n",
    "        if javadoc_comment or re.match(COMMENT_REGEX, lines[line_number], re.DOTALL):\n",
    "            indentation_width = len(lines[line_number]) - len(lines[line_number].lstrip())\n",
    "            width = len(lines[line_number]) * CHARACTER_WIDTH\n",
    "            draw.rectangle(\n",
    "                [(x + indentation_width * CHARACTER_WIDTH, y), (x + width, y + CHARACTER_HEIGHT)],\n",
    "                fill=COMMENTS_COLOR, outline=None)\n",
    "\n",
    "            if re.match(r'.*\\*\\/\\s*$', lines[line_number]):\n",
    "                javadoc_comment = False\n",
    "\n",
    "        else:\n",
    "            for word in line:\n",
    "                color = determine_color(word)\n",
    "                width = len(word) * CHARACTER_WIDTH\n",
    "                draw.rectangle([(x, y), (x + width, y + CHARACTER_HEIGHT)], fill=color, outline=None)\n",
    "                x += width\n",
    "\n",
    "        x = MARGIN\n",
    "        y += CHARACTER_HEIGHT\n",
    "\n",
    "    try:\n",
    "        return image\n",
    "    except IOError:\n",
    "        print(\"Error saving the image file.\")"
   ],
   "execution_count": 23,
   "outputs": [],
   "metadata": {
    "datalore": {
     "node_id": "EGMGad588FfdGIbW5VdvFa",
     "type": "CODE",
     "hide_input_from_viewers": true,
     "hide_output_from_viewers": true
    },
    "ExecuteTime": {
     "end_time": "2023-06-05T10:14:08.999212Z",
     "start_time": "2023-06-05T10:14:08.994951Z"
    }
   }
  },
  {
   "cell_type": "markdown",
   "source": [],
   "attachments": {},
   "metadata": {
    "datalore": {
     "node_id": "OSOu0zfaVV9h7ws6QIGC5J",
     "type": "MD",
     "hide_input_from_viewers": true,
     "hide_output_from_viewers": true
    }
   }
  },
  {
   "cell_type": "markdown",
   "source": [
    "# Code for snip-matrix transformation"
   ],
   "attachments": {},
   "metadata": {
    "datalore": {
     "node_id": "MLZojFgNwe2yqpZG4IDuIu",
     "type": "MD",
     "hide_input_from_viewers": true,
     "hide_output_from_viewers": true
    }
   }
  },
  {
   "cell_type": "code",
   "source": [
    "def ascii_matrix(code, rows=50, cols=350):\n",
    "    matrix = [[-1]*cols for _ in range(rows)]\n",
    "    \n",
    "    for i, line in enumerate(code):\n",
    "        if i == rows:\n",
    "            break\n",
    "\n",
    "        for j, char in enumerate(line):\n",
    "            if j == cols:\n",
    "                break\n",
    "\n",
    "            matrix[i][j] = ord(char)\n",
    "    \n",
    "    return matrix"
   ],
   "execution_count": 24,
   "outputs": [],
   "metadata": {
    "datalore": {
     "node_id": "gTZwbPMw3a6s3h3axnMIQM",
     "type": "CODE",
     "hide_input_from_viewers": true,
     "hide_output_from_viewers": true
    },
    "ExecuteTime": {
     "end_time": "2023-06-05T10:14:09.006230Z",
     "start_time": "2023-06-05T10:14:08.998121Z"
    }
   }
  },
  {
   "cell_type": "code",
   "source": [
    "def process_snippet(snippet):\n",
    "    lines = snippet.split('\\n')\n",
    "    return ascii_matrix(lines)"
   ],
   "execution_count": 25,
   "outputs": [],
   "metadata": {
    "datalore": {
     "node_id": "nva95ILfODgIMNGBPDjrm1",
     "type": "CODE",
     "hide_input_from_viewers": true,
     "hide_output_from_viewers": true
    },
    "ExecuteTime": {
     "end_time": "2023-06-05T10:14:09.006456Z",
     "start_time": "2023-06-05T10:14:09.000902Z"
    }
   }
  },
  {
   "cell_type": "markdown",
   "source": [],
   "attachments": {},
   "metadata": {
    "datalore": {
     "node_id": "mnBVo5uO4IyO9iA2SYd93u",
     "type": "MD",
     "hide_input_from_viewers": true,
     "hide_output_from_viewers": true
    }
   }
  },
  {
   "cell_type": "markdown",
   "source": [
    "# Code for df-folders transformation"
   ],
   "attachments": {},
   "metadata": {
    "datalore": {
     "node_id": "49B27RDlqlZ0U9cZocS7E4",
     "type": "MD",
     "hide_input_from_viewers": true,
     "hide_output_from_viewers": true
    }
   }
  },
  {
   "cell_type": "code",
   "execution_count": 26,
   "outputs": [],
   "source": [
    "def save_data(df, folder, data_type):\n",
    "    # Create the \"OUR_Dataset\" folder if it does not exist\n",
    "    if not os.path.exists(\"OUR_Dataset\"):\n",
    "        os.makedirs(\"OUR_Dataset\")\n",
    "\n",
    "    # Determine the parent folder path based on the data_type\n",
    "    if data_type == 'java':\n",
    "        parent_folder_path = \"OUR_Dataset\"\n",
    "    else:\n",
    "        # Create a folder named \"Processed Dataset\" inside the \"OUR_Dataset\" folder if it does not exist\n",
    "        processed_dataset_folder = os.path.join(\"OUR_Dataset\", \"Processed Dataset\")\n",
    "        if not os.path.exists(processed_dataset_folder):\n",
    "            os.makedirs(processed_dataset_folder)\n",
    "        parent_folder_path = processed_dataset_folder\n",
    "\n",
    "    subfolder_path = os.path.join(parent_folder_path, folder)\n",
    "\n",
    "    if not os.path.exists(subfolder_path):\n",
    "        os.makedirs(subfolder_path)\n",
    "\n",
    "    for index, row in df.iterrows():\n",
    "        code_snippet = row['snippet']\n",
    "\n",
    "        if data_type == 'image':\n",
    "            data = generate_code_image(code_snippet)\n",
    "            file_path = os.path.join(subfolder_path, f'{row[\"snip_id\"]}.png')\n",
    "            data.save(file_path)\n",
    "        elif data_type == 'matrix':\n",
    "            data = process_snippet(code_snippet)\n",
    "            file_path = os.path.join(subfolder_path, f'{row[\"snip_id\"]}.java.matrix')\n",
    "            np.savetxt(file_path, data, fmt='%d')\n",
    "        elif data_type == 'text':\n",
    "            data = code_snippet\n",
    "            file_path = os.path.join(subfolder_path, f'{row[\"snip_id\"]}.txt')\n",
    "            with open(file_path, 'w') as f:\n",
    "                f.write(data)\n",
    "\n",
    "        elif data_type == 'java':\n",
    "            data = code_snippet\n",
    "            file_path = os.path.join(subfolder_path, f'{row[\"snip_id\"]}.java')\n",
    "            with open(file_path, 'w') as f:\n",
    "                f.write(data)\n",
    "        else:\n",
    "            raise ValueError(f\"Invalid data_type: {data_type}. Choose from 'image', 'matrix', 'text', or 'java'.\")\n",
    "\n"
   ],
   "metadata": {
    "collapsed": false,
    "ExecuteTime": {
     "end_time": "2023-06-05T10:14:09.008467Z",
     "start_time": "2023-06-05T10:14:09.006495Z"
    }
   }
  },
  {
   "cell_type": "code",
   "source": [
    "save_data(df, 'Image', 'image')  # To save as images\n",
    "save_data(df, 'Structure', 'matrix')  # To save as .java.matrix files\n",
    "save_data(df, 'Texture', 'text')  # To save as .txt files\n",
    "save_data(df, 'Java', 'java')  # To save as .java files"
   ],
   "execution_count": 27,
   "outputs": [],
   "metadata": {
    "datalore": {
     "node_id": "iEw0ZKunvjST0ml1J44DkT",
     "type": "CODE",
     "hide_input_from_viewers": true,
     "hide_output_from_viewers": true
    },
    "ExecuteTime": {
     "end_time": "2023-06-05T10:14:10.155871Z",
     "start_time": "2023-06-05T10:14:09.011512Z"
    }
   }
  },
  {
   "cell_type": "code",
   "source": [],
   "execution_count": 27,
   "outputs": [],
   "metadata": {
    "datalore": {
     "node_id": "OZwkEsXU4t6SyVTMIehO13",
     "type": "CODE",
     "hide_input_from_viewers": true,
     "hide_output_from_viewers": true
    },
    "ExecuteTime": {
     "end_time": "2023-06-05T10:14:10.157797Z",
     "start_time": "2023-06-05T10:14:10.156006Z"
    }
   }
  }
 ],
 "metadata": {
  "kernelspec": {
   "name": "python3",
   "language": "python",
   "display_name": "Python 3 (ipykernel)"
  },
  "datalore": {
   "computation_mode": "JUPYTER",
   "package_manager": "pip",
   "base_environment": "default",
   "packages": [
    {
     "name": "javalang",
     "version": "0.13.0",
     "source": "PIP"
    }
   ],
   "report_row_ids": [],
   "version": 3
  }
 },
 "nbformat": 4,
 "nbformat_minor": 4
}
